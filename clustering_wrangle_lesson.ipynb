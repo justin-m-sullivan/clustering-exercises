{
 "cells": [
  {
   "cell_type": "code",
   "execution_count": 1,
   "metadata": {},
   "outputs": [],
   "source": [
    "import warnings\n",
    "warnings.filterwarnings(\"ignore\")\n",
    "\n",
    "# Wrangling\n",
    "import pandas as pd\n",
    "import numpy as np\n",
    "\n",
    "# Exploring\n",
    "import scipy.stats as stats\n",
    "\n",
    "# Visualizing\n",
    "%matplotlib inline\n",
    "import matplotlib.pyplot as plt\n",
    "import seaborn as sns\n",
    "\n",
    "# default pandas decimal number display format\n",
    "pd.options.display.float_format = '{:.2f}'.format"
   ]
  },
  {
   "cell_type": "code",
   "execution_count": 2,
   "metadata": {},
   "outputs": [],
   "source": [
    "# google sheet: https://docs.google.com/spreadsheets/d/14L32EfCmr2asv85i08fla6jf1KakJVcLYaJMkXQ4_p0/edit#gid=0    \n",
    "\n",
    "#Note: Data has been filtered/changed a bit from orginal form to demonstrate null and outlier handling.\n",
    "\n",
    "\n",
    "sheet_url = 'https://docs.google.com/spreadsheets/d/14L32EfCmr2asv85i08fla6jf1KakJVcLYaJMkXQ4_p0/edit#gid=0'    \n",
    "\n",
    "csv_export_url = sheet_url.replace('/edit#gid=', '/export?format=csv&gid=')\n",
    "\n",
    "df = pd.read_csv(csv_export_url)"
   ]
  },
  {
   "cell_type": "code",
   "execution_count": 3,
   "metadata": {},
   "outputs": [
    {
     "data": {
      "text/html": [
       "<div>\n",
       "<style scoped>\n",
       "    .dataframe tbody tr th:only-of-type {\n",
       "        vertical-align: middle;\n",
       "    }\n",
       "\n",
       "    .dataframe tbody tr th {\n",
       "        vertical-align: top;\n",
       "    }\n",
       "\n",
       "    .dataframe thead th {\n",
       "        text-align: right;\n",
       "    }\n",
       "</style>\n",
       "<table border=\"1\" class=\"dataframe\">\n",
       "  <thead>\n",
       "    <tr style=\"text-align: right;\">\n",
       "      <th></th>\n",
       "      <th>Respondent</th>\n",
       "      <th>Hobbyist</th>\n",
       "      <th>Age</th>\n",
       "      <th>Age1stCode</th>\n",
       "      <th>Comp</th>\n",
       "      <th>Ethnicity</th>\n",
       "      <th>Gender</th>\n",
       "      <th>YearsCode</th>\n",
       "      <th>YearsCodePro</th>\n",
       "    </tr>\n",
       "  </thead>\n",
       "  <tbody>\n",
       "    <tr>\n",
       "      <th>0</th>\n",
       "      <td>8</td>\n",
       "      <td>Yes</td>\n",
       "      <td>36.00</td>\n",
       "      <td>12</td>\n",
       "      <td>116000</td>\n",
       "      <td>White or of European descent</td>\n",
       "      <td>Man</td>\n",
       "      <td>17</td>\n",
       "      <td>13</td>\n",
       "    </tr>\n",
       "    <tr>\n",
       "      <th>1</th>\n",
       "      <td>14</td>\n",
       "      <td>Yes</td>\n",
       "      <td>27.00</td>\n",
       "      <td>13</td>\n",
       "      <td>66000</td>\n",
       "      <td>White or of European descent</td>\n",
       "      <td>Man</td>\n",
       "      <td>5</td>\n",
       "      <td>1</td>\n",
       "    </tr>\n",
       "    <tr>\n",
       "      <th>2</th>\n",
       "      <td>17</td>\n",
       "      <td>Yes</td>\n",
       "      <td>25.00</td>\n",
       "      <td>14</td>\n",
       "      <td>79000</td>\n",
       "      <td>White or of European descent</td>\n",
       "      <td>Man</td>\n",
       "      <td>7</td>\n",
       "      <td>3</td>\n",
       "    </tr>\n",
       "    <tr>\n",
       "      <th>3</th>\n",
       "      <td>18</td>\n",
       "      <td>Yes</td>\n",
       "      <td>32.00</td>\n",
       "      <td>12</td>\n",
       "      <td>1260000</td>\n",
       "      <td>White or of European descent</td>\n",
       "      <td>Man</td>\n",
       "      <td>19</td>\n",
       "      <td>12</td>\n",
       "    </tr>\n",
       "    <tr>\n",
       "      <th>4</th>\n",
       "      <td>19</td>\n",
       "      <td>No</td>\n",
       "      <td>24.00</td>\n",
       "      <td>15</td>\n",
       "      <td>83400</td>\n",
       "      <td>White or of European descent</td>\n",
       "      <td>Man</td>\n",
       "      <td>9</td>\n",
       "      <td>3</td>\n",
       "    </tr>\n",
       "  </tbody>\n",
       "</table>\n",
       "</div>"
      ],
      "text/plain": [
       "   Respondent Hobbyist   Age Age1stCode     Comp  \\\n",
       "0           8      Yes 36.00         12   116000   \n",
       "1          14      Yes 27.00         13    66000   \n",
       "2          17      Yes 25.00         14    79000   \n",
       "3          18      Yes 32.00         12  1260000   \n",
       "4          19       No 24.00         15    83400   \n",
       "\n",
       "                      Ethnicity Gender YearsCode YearsCodePro  \n",
       "0  White or of European descent    Man        17           13  \n",
       "1  White or of European descent    Man         5            1  \n",
       "2  White or of European descent    Man         7            3  \n",
       "3  White or of European descent    Man        19           12  \n",
       "4  White or of European descent    Man         9            3  "
      ]
     },
     "execution_count": 3,
     "metadata": {},
     "output_type": "execute_result"
    }
   ],
   "source": [
    "df.head()"
   ]
  },
  {
   "cell_type": "code",
   "execution_count": 4,
   "metadata": {},
   "outputs": [
    {
     "name": "stdout",
     "output_type": "stream",
     "text": [
      "<class 'pandas.core.frame.DataFrame'>\n",
      "RangeIndex: 8152 entries, 0 to 8151\n",
      "Data columns (total 9 columns):\n",
      " #   Column        Non-Null Count  Dtype  \n",
      "---  ------        --------------  -----  \n",
      " 0   Respondent    8152 non-null   int64  \n",
      " 1   Hobbyist      8152 non-null   object \n",
      " 2   Age           7229 non-null   float64\n",
      " 3   Age1stCode    8136 non-null   object \n",
      " 4   Comp          8152 non-null   int64  \n",
      " 5   Ethnicity     3087 non-null   object \n",
      " 6   Gender        7575 non-null   object \n",
      " 7   YearsCode     8132 non-null   object \n",
      " 8   YearsCodePro  8136 non-null   object \n",
      "dtypes: float64(1), int64(2), object(6)\n",
      "memory usage: 573.3+ KB\n"
     ]
    }
   ],
   "source": [
    "df.info()"
   ]
  },
  {
   "cell_type": "markdown",
   "metadata": {},
   "source": [
    "### Explore factors influencing Compensation \n",
    "\n",
    "Target = Compensation\n",
    "\n",
    "\n",
    "\n",
    "### How to handle nulls and Outliers"
   ]
  },
  {
   "cell_type": "markdown",
   "metadata": {},
   "source": [
    "### How do I handle missing data (nulls) in my dataset?\n",
    "\n",
    "- Drop the nulls\n",
    "    - drop columns\n",
    "    - drop rows\n",
    "- Impute missing values\n",
    "    - fillna with mean, median, mode of the column\n",
    "    - Impute using some other algorithms - KNN imputer\n",
    "- Use algorithms which can handle nulls\n",
    "    - Ignores missing values\n",
    "- Boolean flags for missing data"
   ]
  },
  {
   "cell_type": "code",
   "execution_count": 5,
   "metadata": {},
   "outputs": [
    {
     "data": {
      "text/plain": [
       "Respondent         0\n",
       "Hobbyist           0\n",
       "Age              923\n",
       "Age1stCode        16\n",
       "Comp               0\n",
       "Ethnicity       5065\n",
       "Gender           577\n",
       "YearsCode         20\n",
       "YearsCodePro      16\n",
       "dtype: int64"
      ]
     },
     "execution_count": 5,
     "metadata": {},
     "output_type": "execute_result"
    }
   ],
   "source": [
    "# How many nulls have in each column?\n",
    "\n",
    "df.isnull().sum()"
   ]
  },
  {
   "cell_type": "code",
   "execution_count": 6,
   "metadata": {},
   "outputs": [
    {
     "data": {
      "text/plain": [
       "Respondent      0.00\n",
       "Hobbyist        0.00\n",
       "Age            11.32\n",
       "Age1stCode      0.20\n",
       "Comp            0.00\n",
       "Ethnicity      62.13\n",
       "Gender          7.08\n",
       "YearsCode       0.25\n",
       "YearsCodePro    0.20\n",
       "dtype: float64"
      ]
     },
     "execution_count": 6,
     "metadata": {},
     "output_type": "execute_result"
    }
   ],
   "source": [
    "# % values missing in each column\n",
    "\n",
    "df.isnull().sum()/len(df)*100"
   ]
  },
  {
   "cell_type": "code",
   "execution_count": 7,
   "metadata": {},
   "outputs": [
    {
     "data": {
      "text/plain": [
       "0       0\n",
       "1       0\n",
       "2       0\n",
       "3       0\n",
       "4       0\n",
       "       ..\n",
       "8147    3\n",
       "8148    3\n",
       "8149    3\n",
       "8150    3\n",
       "8151    1\n",
       "Length: 8152, dtype: int64"
      ]
     },
     "execution_count": 7,
     "metadata": {},
     "output_type": "execute_result"
    }
   ],
   "source": [
    "# How many nulls have in each row?\n",
    "df.isnull().sum(axis=1)\n"
   ]
  },
  {
   "cell_type": "code",
   "execution_count": null,
   "metadata": {},
   "outputs": [],
   "source": [
    "# Drop columns or rows using dropna() based on a threshold"
   ]
  },
  {
   "cell_type": "code",
   "execution_count": 10,
   "metadata": {},
   "outputs": [
    {
     "data": {
      "text/plain": [
       "4076.0"
      ]
     },
     "execution_count": 10,
     "metadata": {},
     "output_type": "execute_result"
    }
   ],
   "source": [
    "len(df.index)*.5\n",
    "#I need at least this many non nulls to keep the column. \n"
   ]
  },
  {
   "cell_type": "code",
   "execution_count": 11,
   "metadata": {
    "scrolled": false
   },
   "outputs": [
    {
     "data": {
      "text/html": [
       "<div>\n",
       "<style scoped>\n",
       "    .dataframe tbody tr th:only-of-type {\n",
       "        vertical-align: middle;\n",
       "    }\n",
       "\n",
       "    .dataframe tbody tr th {\n",
       "        vertical-align: top;\n",
       "    }\n",
       "\n",
       "    .dataframe thead th {\n",
       "        text-align: right;\n",
       "    }\n",
       "</style>\n",
       "<table border=\"1\" class=\"dataframe\">\n",
       "  <thead>\n",
       "    <tr style=\"text-align: right;\">\n",
       "      <th></th>\n",
       "      <th>Respondent</th>\n",
       "      <th>Hobbyist</th>\n",
       "      <th>Age</th>\n",
       "      <th>Age1stCode</th>\n",
       "      <th>Comp</th>\n",
       "      <th>Gender</th>\n",
       "      <th>YearsCode</th>\n",
       "      <th>YearsCodePro</th>\n",
       "    </tr>\n",
       "  </thead>\n",
       "  <tbody>\n",
       "    <tr>\n",
       "      <th>0</th>\n",
       "      <td>8</td>\n",
       "      <td>Yes</td>\n",
       "      <td>36.00</td>\n",
       "      <td>12</td>\n",
       "      <td>116000</td>\n",
       "      <td>Man</td>\n",
       "      <td>17</td>\n",
       "      <td>13</td>\n",
       "    </tr>\n",
       "    <tr>\n",
       "      <th>1</th>\n",
       "      <td>14</td>\n",
       "      <td>Yes</td>\n",
       "      <td>27.00</td>\n",
       "      <td>13</td>\n",
       "      <td>66000</td>\n",
       "      <td>Man</td>\n",
       "      <td>5</td>\n",
       "      <td>1</td>\n",
       "    </tr>\n",
       "    <tr>\n",
       "      <th>2</th>\n",
       "      <td>17</td>\n",
       "      <td>Yes</td>\n",
       "      <td>25.00</td>\n",
       "      <td>14</td>\n",
       "      <td>79000</td>\n",
       "      <td>Man</td>\n",
       "      <td>7</td>\n",
       "      <td>3</td>\n",
       "    </tr>\n",
       "    <tr>\n",
       "      <th>3</th>\n",
       "      <td>18</td>\n",
       "      <td>Yes</td>\n",
       "      <td>32.00</td>\n",
       "      <td>12</td>\n",
       "      <td>1260000</td>\n",
       "      <td>Man</td>\n",
       "      <td>19</td>\n",
       "      <td>12</td>\n",
       "    </tr>\n",
       "    <tr>\n",
       "      <th>4</th>\n",
       "      <td>19</td>\n",
       "      <td>No</td>\n",
       "      <td>24.00</td>\n",
       "      <td>15</td>\n",
       "      <td>83400</td>\n",
       "      <td>Man</td>\n",
       "      <td>9</td>\n",
       "      <td>3</td>\n",
       "    </tr>\n",
       "    <tr>\n",
       "      <th>...</th>\n",
       "      <td>...</td>\n",
       "      <td>...</td>\n",
       "      <td>...</td>\n",
       "      <td>...</td>\n",
       "      <td>...</td>\n",
       "      <td>...</td>\n",
       "      <td>...</td>\n",
       "      <td>...</td>\n",
       "    </tr>\n",
       "    <tr>\n",
       "      <th>8147</th>\n",
       "      <td>65589</td>\n",
       "      <td>Yes</td>\n",
       "      <td>nan</td>\n",
       "      <td>16</td>\n",
       "      <td>150000</td>\n",
       "      <td>NaN</td>\n",
       "      <td>10</td>\n",
       "      <td>6</td>\n",
       "    </tr>\n",
       "    <tr>\n",
       "      <th>8148</th>\n",
       "      <td>65596</td>\n",
       "      <td>Yes</td>\n",
       "      <td>nan</td>\n",
       "      <td>22</td>\n",
       "      <td>70000</td>\n",
       "      <td>NaN</td>\n",
       "      <td>6</td>\n",
       "      <td>4</td>\n",
       "    </tr>\n",
       "    <tr>\n",
       "      <th>8149</th>\n",
       "      <td>65602</td>\n",
       "      <td>Yes</td>\n",
       "      <td>nan</td>\n",
       "      <td>13</td>\n",
       "      <td>140000</td>\n",
       "      <td>NaN</td>\n",
       "      <td>15</td>\n",
       "      <td>12</td>\n",
       "    </tr>\n",
       "    <tr>\n",
       "      <th>8150</th>\n",
       "      <td>65604</td>\n",
       "      <td>No</td>\n",
       "      <td>nan</td>\n",
       "      <td>13</td>\n",
       "      <td>150000</td>\n",
       "      <td>NaN</td>\n",
       "      <td>7</td>\n",
       "      <td>4</td>\n",
       "    </tr>\n",
       "    <tr>\n",
       "      <th>8151</th>\n",
       "      <td>65629</td>\n",
       "      <td>Yes</td>\n",
       "      <td>41.00</td>\n",
       "      <td>15</td>\n",
       "      <td>200</td>\n",
       "      <td>Man</td>\n",
       "      <td>25</td>\n",
       "      <td>20</td>\n",
       "    </tr>\n",
       "  </tbody>\n",
       "</table>\n",
       "<p>8152 rows × 8 columns</p>\n",
       "</div>"
      ],
      "text/plain": [
       "      Respondent Hobbyist   Age Age1stCode     Comp Gender YearsCode  \\\n",
       "0              8      Yes 36.00         12   116000    Man        17   \n",
       "1             14      Yes 27.00         13    66000    Man         5   \n",
       "2             17      Yes 25.00         14    79000    Man         7   \n",
       "3             18      Yes 32.00         12  1260000    Man        19   \n",
       "4             19       No 24.00         15    83400    Man         9   \n",
       "...          ...      ...   ...        ...      ...    ...       ...   \n",
       "8147       65589      Yes   nan         16   150000    NaN        10   \n",
       "8148       65596      Yes   nan         22    70000    NaN         6   \n",
       "8149       65602      Yes   nan         13   140000    NaN        15   \n",
       "8150       65604       No   nan         13   150000    NaN         7   \n",
       "8151       65629      Yes 41.00         15      200    Man        25   \n",
       "\n",
       "     YearsCodePro  \n",
       "0              13  \n",
       "1               1  \n",
       "2               3  \n",
       "3              12  \n",
       "4               3  \n",
       "...           ...  \n",
       "8147            6  \n",
       "8148            4  \n",
       "8149           12  \n",
       "8150            4  \n",
       "8151           20  \n",
       "\n",
       "[8152 rows x 8 columns]"
      ]
     },
     "execution_count": 11,
     "metadata": {},
     "output_type": "execute_result"
    }
   ],
   "source": [
    "# Drop rows using dropna() based on a threshold\n",
    "\n",
    "# threshold: Require that many non-NA values to survive. \n",
    "\n",
    "df.dropna(axis = 1, thresh = 0.5 * len(df.index))"
   ]
  },
  {
   "cell_type": "code",
   "execution_count": 13,
   "metadata": {},
   "outputs": [
    {
     "data": {
      "text/html": [
       "<div>\n",
       "<style scoped>\n",
       "    .dataframe tbody tr th:only-of-type {\n",
       "        vertical-align: middle;\n",
       "    }\n",
       "\n",
       "    .dataframe tbody tr th {\n",
       "        vertical-align: top;\n",
       "    }\n",
       "\n",
       "    .dataframe thead th {\n",
       "        text-align: right;\n",
       "    }\n",
       "</style>\n",
       "<table border=\"1\" class=\"dataframe\">\n",
       "  <thead>\n",
       "    <tr style=\"text-align: right;\">\n",
       "      <th></th>\n",
       "      <th>Respondent</th>\n",
       "      <th>Hobbyist</th>\n",
       "      <th>Age</th>\n",
       "      <th>Age1stCode</th>\n",
       "      <th>Comp</th>\n",
       "      <th>Ethnicity</th>\n",
       "      <th>Gender</th>\n",
       "      <th>YearsCode</th>\n",
       "      <th>YearsCodePro</th>\n",
       "    </tr>\n",
       "  </thead>\n",
       "  <tbody>\n",
       "    <tr>\n",
       "      <th>0</th>\n",
       "      <td>8</td>\n",
       "      <td>Yes</td>\n",
       "      <td>36.00</td>\n",
       "      <td>12</td>\n",
       "      <td>116000</td>\n",
       "      <td>White or of European descent</td>\n",
       "      <td>Man</td>\n",
       "      <td>17</td>\n",
       "      <td>13</td>\n",
       "    </tr>\n",
       "    <tr>\n",
       "      <th>1</th>\n",
       "      <td>14</td>\n",
       "      <td>Yes</td>\n",
       "      <td>27.00</td>\n",
       "      <td>13</td>\n",
       "      <td>66000</td>\n",
       "      <td>White or of European descent</td>\n",
       "      <td>Man</td>\n",
       "      <td>5</td>\n",
       "      <td>1</td>\n",
       "    </tr>\n",
       "    <tr>\n",
       "      <th>2</th>\n",
       "      <td>17</td>\n",
       "      <td>Yes</td>\n",
       "      <td>25.00</td>\n",
       "      <td>14</td>\n",
       "      <td>79000</td>\n",
       "      <td>White or of European descent</td>\n",
       "      <td>Man</td>\n",
       "      <td>7</td>\n",
       "      <td>3</td>\n",
       "    </tr>\n",
       "    <tr>\n",
       "      <th>3</th>\n",
       "      <td>18</td>\n",
       "      <td>Yes</td>\n",
       "      <td>32.00</td>\n",
       "      <td>12</td>\n",
       "      <td>1260000</td>\n",
       "      <td>White or of European descent</td>\n",
       "      <td>Man</td>\n",
       "      <td>19</td>\n",
       "      <td>12</td>\n",
       "    </tr>\n",
       "    <tr>\n",
       "      <th>4</th>\n",
       "      <td>19</td>\n",
       "      <td>No</td>\n",
       "      <td>24.00</td>\n",
       "      <td>15</td>\n",
       "      <td>83400</td>\n",
       "      <td>White or of European descent</td>\n",
       "      <td>Man</td>\n",
       "      <td>9</td>\n",
       "      <td>3</td>\n",
       "    </tr>\n",
       "    <tr>\n",
       "      <th>...</th>\n",
       "      <td>...</td>\n",
       "      <td>...</td>\n",
       "      <td>...</td>\n",
       "      <td>...</td>\n",
       "      <td>...</td>\n",
       "      <td>...</td>\n",
       "      <td>...</td>\n",
       "      <td>...</td>\n",
       "      <td>...</td>\n",
       "    </tr>\n",
       "    <tr>\n",
       "      <th>8147</th>\n",
       "      <td>65589</td>\n",
       "      <td>Yes</td>\n",
       "      <td>nan</td>\n",
       "      <td>16</td>\n",
       "      <td>150000</td>\n",
       "      <td>NaN</td>\n",
       "      <td>NaN</td>\n",
       "      <td>10</td>\n",
       "      <td>6</td>\n",
       "    </tr>\n",
       "    <tr>\n",
       "      <th>8148</th>\n",
       "      <td>65596</td>\n",
       "      <td>Yes</td>\n",
       "      <td>nan</td>\n",
       "      <td>22</td>\n",
       "      <td>70000</td>\n",
       "      <td>NaN</td>\n",
       "      <td>NaN</td>\n",
       "      <td>6</td>\n",
       "      <td>4</td>\n",
       "    </tr>\n",
       "    <tr>\n",
       "      <th>8149</th>\n",
       "      <td>65602</td>\n",
       "      <td>Yes</td>\n",
       "      <td>nan</td>\n",
       "      <td>13</td>\n",
       "      <td>140000</td>\n",
       "      <td>NaN</td>\n",
       "      <td>NaN</td>\n",
       "      <td>15</td>\n",
       "      <td>12</td>\n",
       "    </tr>\n",
       "    <tr>\n",
       "      <th>8150</th>\n",
       "      <td>65604</td>\n",
       "      <td>No</td>\n",
       "      <td>nan</td>\n",
       "      <td>13</td>\n",
       "      <td>150000</td>\n",
       "      <td>NaN</td>\n",
       "      <td>NaN</td>\n",
       "      <td>7</td>\n",
       "      <td>4</td>\n",
       "    </tr>\n",
       "    <tr>\n",
       "      <th>8151</th>\n",
       "      <td>65629</td>\n",
       "      <td>Yes</td>\n",
       "      <td>41.00</td>\n",
       "      <td>15</td>\n",
       "      <td>200</td>\n",
       "      <td>NaN</td>\n",
       "      <td>Man</td>\n",
       "      <td>25</td>\n",
       "      <td>20</td>\n",
       "    </tr>\n",
       "  </tbody>\n",
       "</table>\n",
       "<p>8150 rows × 9 columns</p>\n",
       "</div>"
      ],
      "text/plain": [
       "      Respondent Hobbyist   Age Age1stCode     Comp  \\\n",
       "0              8      Yes 36.00         12   116000   \n",
       "1             14      Yes 27.00         13    66000   \n",
       "2             17      Yes 25.00         14    79000   \n",
       "3             18      Yes 32.00         12  1260000   \n",
       "4             19       No 24.00         15    83400   \n",
       "...          ...      ...   ...        ...      ...   \n",
       "8147       65589      Yes   nan         16   150000   \n",
       "8148       65596      Yes   nan         22    70000   \n",
       "8149       65602      Yes   nan         13   140000   \n",
       "8150       65604       No   nan         13   150000   \n",
       "8151       65629      Yes 41.00         15      200   \n",
       "\n",
       "                         Ethnicity Gender YearsCode YearsCodePro  \n",
       "0     White or of European descent    Man        17           13  \n",
       "1     White or of European descent    Man         5            1  \n",
       "2     White or of European descent    Man         7            3  \n",
       "3     White or of European descent    Man        19           12  \n",
       "4     White or of European descent    Man         9            3  \n",
       "...                            ...    ...       ...          ...  \n",
       "8147                           NaN    NaN        10            6  \n",
       "8148                           NaN    NaN         6            4  \n",
       "8149                           NaN    NaN        15           12  \n",
       "8150                           NaN    NaN         7            4  \n",
       "8151                           NaN    Man        25           20  \n",
       "\n",
       "[8150 rows x 9 columns]"
      ]
     },
     "execution_count": 13,
     "metadata": {},
     "output_type": "execute_result"
    }
   ],
   "source": [
    "# Drop rows using dropna() based on a threshold\n",
    "\n",
    "\n",
    "# threshold: only drop when # of nulls in a row is above the threshold value\n",
    "\n",
    "df.dropna(axis = 0, thresh = 0.5 * len(df.columns))"
   ]
  },
  {
   "cell_type": "code",
   "execution_count": 14,
   "metadata": {},
   "outputs": [],
   "source": [
    "def handle_missing_values(df, prop_required_row = 0.5, prop_required_col = 0.5):\n",
    "    ''' funtcion which takes in a dataframe, required notnull proportions of non-null rows and columns.\n",
    "    drop the columns and rows columns based on theshold:'''\n",
    "    \n",
    "    #drop columns with nulls\n",
    "    threshold = int(prop_required_col * len(df.index)) # Require that many non-NA values.\n",
    "    df.dropna(axis = 1, thresh = threshold, inplace = True)\n",
    "    \n",
    "    #drop rows with nulls\n",
    "    threshold = int(prop_required_row * len(df.columns)) # Require that many non-NA values.\n",
    "    df.dropna(axis = 0, thresh = threshold, inplace = True)\n",
    "    \n",
    "    \n",
    "    return df"
   ]
  },
  {
   "cell_type": "code",
   "execution_count": 15,
   "metadata": {},
   "outputs": [
    {
     "data": {
      "text/html": [
       "<div>\n",
       "<style scoped>\n",
       "    .dataframe tbody tr th:only-of-type {\n",
       "        vertical-align: middle;\n",
       "    }\n",
       "\n",
       "    .dataframe tbody tr th {\n",
       "        vertical-align: top;\n",
       "    }\n",
       "\n",
       "    .dataframe thead th {\n",
       "        text-align: right;\n",
       "    }\n",
       "</style>\n",
       "<table border=\"1\" class=\"dataframe\">\n",
       "  <thead>\n",
       "    <tr style=\"text-align: right;\">\n",
       "      <th></th>\n",
       "      <th>Respondent</th>\n",
       "      <th>Hobbyist</th>\n",
       "      <th>Age</th>\n",
       "      <th>Age1stCode</th>\n",
       "      <th>Comp</th>\n",
       "      <th>Gender</th>\n",
       "      <th>YearsCode</th>\n",
       "      <th>YearsCodePro</th>\n",
       "    </tr>\n",
       "  </thead>\n",
       "  <tbody>\n",
       "    <tr>\n",
       "      <th>0</th>\n",
       "      <td>8</td>\n",
       "      <td>Yes</td>\n",
       "      <td>36.00</td>\n",
       "      <td>12</td>\n",
       "      <td>116000</td>\n",
       "      <td>Man</td>\n",
       "      <td>17</td>\n",
       "      <td>13</td>\n",
       "    </tr>\n",
       "    <tr>\n",
       "      <th>1</th>\n",
       "      <td>14</td>\n",
       "      <td>Yes</td>\n",
       "      <td>27.00</td>\n",
       "      <td>13</td>\n",
       "      <td>66000</td>\n",
       "      <td>Man</td>\n",
       "      <td>5</td>\n",
       "      <td>1</td>\n",
       "    </tr>\n",
       "    <tr>\n",
       "      <th>2</th>\n",
       "      <td>17</td>\n",
       "      <td>Yes</td>\n",
       "      <td>25.00</td>\n",
       "      <td>14</td>\n",
       "      <td>79000</td>\n",
       "      <td>Man</td>\n",
       "      <td>7</td>\n",
       "      <td>3</td>\n",
       "    </tr>\n",
       "    <tr>\n",
       "      <th>3</th>\n",
       "      <td>18</td>\n",
       "      <td>Yes</td>\n",
       "      <td>32.00</td>\n",
       "      <td>12</td>\n",
       "      <td>1260000</td>\n",
       "      <td>Man</td>\n",
       "      <td>19</td>\n",
       "      <td>12</td>\n",
       "    </tr>\n",
       "    <tr>\n",
       "      <th>4</th>\n",
       "      <td>19</td>\n",
       "      <td>No</td>\n",
       "      <td>24.00</td>\n",
       "      <td>15</td>\n",
       "      <td>83400</td>\n",
       "      <td>Man</td>\n",
       "      <td>9</td>\n",
       "      <td>3</td>\n",
       "    </tr>\n",
       "  </tbody>\n",
       "</table>\n",
       "</div>"
      ],
      "text/plain": [
       "   Respondent Hobbyist   Age Age1stCode     Comp Gender YearsCode YearsCodePro\n",
       "0           8      Yes 36.00         12   116000    Man        17           13\n",
       "1          14      Yes 27.00         13    66000    Man         5            1\n",
       "2          17      Yes 25.00         14    79000    Man         7            3\n",
       "3          18      Yes 32.00         12  1260000    Man        19           12\n",
       "4          19       No 24.00         15    83400    Man         9            3"
      ]
     },
     "execution_count": 15,
     "metadata": {},
     "output_type": "execute_result"
    }
   ],
   "source": [
    "# use the function on our dataset\n",
    "df = handle_missing_values(df, prop_required_row = 0.5, prop_required_col = 0.5)\n",
    "df.head()"
   ]
  },
  {
   "cell_type": "code",
   "execution_count": 16,
   "metadata": {},
   "outputs": [
    {
     "name": "stdout",
     "output_type": "stream",
     "text": [
      "<class 'pandas.core.frame.DataFrame'>\n",
      "Int64Index: 8151 entries, 0 to 8151\n",
      "Data columns (total 8 columns):\n",
      " #   Column        Non-Null Count  Dtype  \n",
      "---  ------        --------------  -----  \n",
      " 0   Respondent    8151 non-null   int64  \n",
      " 1   Hobbyist      8151 non-null   object \n",
      " 2   Age           7229 non-null   float64\n",
      " 3   Age1stCode    8136 non-null   object \n",
      " 4   Comp          8151 non-null   int64  \n",
      " 5   Gender        7575 non-null   object \n",
      " 6   YearsCode     8132 non-null   object \n",
      " 7   YearsCodePro  8136 non-null   object \n",
      "dtypes: float64(1), int64(2), object(5)\n",
      "memory usage: 573.1+ KB\n"
     ]
    }
   ],
   "source": [
    "df.info()"
   ]
  },
  {
   "cell_type": "code",
   "execution_count": 17,
   "metadata": {},
   "outputs": [
    {
     "data": {
      "text/plain": [
       "Respondent        0\n",
       "Hobbyist          0\n",
       "Age             922\n",
       "Age1stCode       15\n",
       "Comp              0\n",
       "Gender          576\n",
       "YearsCode        19\n",
       "YearsCodePro     15\n",
       "dtype: int64"
      ]
     },
     "execution_count": 17,
     "metadata": {},
     "output_type": "execute_result"
    }
   ],
   "source": [
    "df.isnull().sum()"
   ]
  },
  {
   "cell_type": "code",
   "execution_count": 19,
   "metadata": {},
   "outputs": [
    {
     "name": "stdout",
     "output_type": "stream",
     "text": [
      "<class 'pandas.core.frame.DataFrame'>\n",
      "Int64Index: 8108 entries, 0 to 8151\n",
      "Data columns (total 8 columns):\n",
      " #   Column        Non-Null Count  Dtype  \n",
      "---  ------        --------------  -----  \n",
      " 0   Respondent    8108 non-null   int64  \n",
      " 1   Hobbyist      8108 non-null   object \n",
      " 2   Age           7194 non-null   float64\n",
      " 3   Age1stCode    8108 non-null   object \n",
      " 4   Comp          8108 non-null   int64  \n",
      " 5   Gender        7534 non-null   object \n",
      " 6   YearsCode     8108 non-null   object \n",
      " 7   YearsCodePro  8108 non-null   object \n",
      "dtypes: float64(1), int64(2), object(5)\n",
      "memory usage: 570.1+ KB\n"
     ]
    }
   ],
   "source": [
    "# drop null rows for specific columns only\n",
    "\n",
    "df = df[df.YearsCode.notnull()]\n",
    "df = df[df.YearsCodePro.notnull()]\n",
    "df = df[df.Age1stCode.notnull()]\n",
    "\n",
    "df.info()"
   ]
  },
  {
   "cell_type": "code",
   "execution_count": 20,
   "metadata": {},
   "outputs": [
    {
     "data": {
      "text/plain": [
       "Respondent        0\n",
       "Hobbyist          0\n",
       "Age             914\n",
       "Age1stCode        0\n",
       "Comp              0\n",
       "Gender          574\n",
       "YearsCode         0\n",
       "YearsCodePro      0\n",
       "dtype: int64"
      ]
     },
     "execution_count": 20,
     "metadata": {},
     "output_type": "execute_result"
    }
   ],
   "source": [
    "df.isnull().sum()"
   ]
  },
  {
   "cell_type": "code",
   "execution_count": 21,
   "metadata": {},
   "outputs": [
    {
     "data": {
      "text/plain": [
       "Man                                                           81.77\n",
       "Woman                                                          9.20\n",
       "Non-binary, genderqueer, or gender non-conforming              1.18\n",
       "Man;Non-binary, genderqueer, or gender non-conforming          0.37\n",
       "Woman;Non-binary, genderqueer, or gender non-conforming        0.33\n",
       "Woman;Man                                                      0.04\n",
       "Woman;Man;Non-binary, genderqueer, or gender non-conforming    0.02\n",
       "Name: Gender, dtype: float64"
      ]
     },
     "execution_count": 21,
     "metadata": {},
     "output_type": "execute_result"
    }
   ],
   "source": [
    "# what is the most common/frequent observation in Gender in train dataset?\n",
    "df.Gender.value_counts()/len(df)*100"
   ]
  },
  {
   "cell_type": "code",
   "execution_count": 23,
   "metadata": {},
   "outputs": [
    {
     "data": {
      "text/plain": [
       "0       Man\n",
       "1       Man\n",
       "2       Man\n",
       "3       Man\n",
       "4       Man\n",
       "       ... \n",
       "8147    Man\n",
       "8148    Man\n",
       "8149    Man\n",
       "8150    Man\n",
       "8151    Man\n",
       "Name: Gender, Length: 8108, dtype: object"
      ]
     },
     "execution_count": 23,
     "metadata": {},
     "output_type": "execute_result"
    }
   ],
   "source": [
    "# Fill NaNs with mode\n",
    "df.Gender.mode()[0]\n",
    "\n",
    "df.Gender.fillna(df.Gender.mode()[0])\n",
    "\n"
   ]
  },
  {
   "cell_type": "code",
   "execution_count": 26,
   "metadata": {},
   "outputs": [],
   "source": [
    "# Use skearn simple imputer\n",
    "\n",
    "from sklearn.impute import SimpleImputer\n",
    "\n",
    "#defining the imputer object\n",
    "imp_mode = SimpleImputer(missing_values=np.nan,strategy = 'most_frequent')\n",
    "\n",
    "df1 = pd.DataFrame(imp_mode.fit_transform(df[['Gender']]), columns = ['Gender_imputed'], index=df.index)\n",
    "# fit and transform on train only!!\n",
    "#df1 = pd.DataFrame(imp_mode.fit_transform(df[['Gender']]), columns = ['Gender_imputed'], index = df.index)"
   ]
  },
  {
   "cell_type": "code",
   "execution_count": 32,
   "metadata": {},
   "outputs": [],
   "source": [
    "#merge transformed column(s) with original dataframe\n",
    "df = pd.merge(df, df1, right_index=True, left_index=True).drop(columns = ['Gender'])"
   ]
  },
  {
   "cell_type": "code",
   "execution_count": 33,
   "metadata": {},
   "outputs": [
    {
     "name": "stdout",
     "output_type": "stream",
     "text": [
      "<class 'pandas.core.frame.DataFrame'>\n",
      "Int64Index: 8108 entries, 0 to 8151\n",
      "Data columns (total 8 columns):\n",
      " #   Column          Non-Null Count  Dtype  \n",
      "---  ------          --------------  -----  \n",
      " 0   Respondent      8108 non-null   int64  \n",
      " 1   Hobbyist        8108 non-null   object \n",
      " 2   Age             7194 non-null   float64\n",
      " 3   Age1stCode      8108 non-null   object \n",
      " 4   Comp            8108 non-null   int64  \n",
      " 5   YearsCode       8108 non-null   object \n",
      " 6   YearsCodePro    8108 non-null   object \n",
      " 7   Gender_imputed  8108 non-null   object \n",
      "dtypes: float64(1), int64(2), object(5)\n",
      "memory usage: 890.1+ KB\n"
     ]
    }
   ],
   "source": [
    "df.info()"
   ]
  },
  {
   "cell_type": "code",
   "execution_count": 31,
   "metadata": {},
   "outputs": [
    {
     "data": {
      "text/plain": [
       "Respondent        0\n",
       "Hobbyist          0\n",
       "Age             914\n",
       "Age1stCode        0\n",
       "Comp              0\n",
       "Gender          574\n",
       "YearsCode         0\n",
       "YearsCodePro      0\n",
       "dtype: int64"
      ]
     },
     "execution_count": 31,
     "metadata": {},
     "output_type": "execute_result"
    }
   ],
   "source": [
    "df.isnull().sum()"
   ]
  },
  {
   "cell_type": "code",
   "execution_count": 34,
   "metadata": {},
   "outputs": [
    {
     "data": {
      "text/plain": [
       "10                    632\n",
       "20                    485\n",
       "6                     424\n",
       "8                     420\n",
       "7                     410\n",
       "5                     390\n",
       "15                    381\n",
       "12                    353\n",
       "25                    299\n",
       "9                     278\n",
       "4                     256\n",
       "11                    232\n",
       "14                    230\n",
       "13                    219\n",
       "16                    219\n",
       "30                    213\n",
       "3                     211\n",
       "18                    195\n",
       "17                    186\n",
       "22                    168\n",
       "40                    160\n",
       "35                    137\n",
       "23                    136\n",
       "21                    125\n",
       "2                     122\n",
       "19                    118\n",
       "24                    111\n",
       "26                     95\n",
       "38                     85\n",
       "27                     72\n",
       "28                     67\n",
       "37                     65\n",
       "36                     58\n",
       "32                     57\n",
       "34                     55\n",
       "29                     45\n",
       "42                     44\n",
       "1                      42\n",
       "33                     36\n",
       "45                     36\n",
       "31                     34\n",
       "43                     32\n",
       "41                     30\n",
       "39                     29\n",
       "More than 50 years     28\n",
       "44                     24\n",
       "46                     14\n",
       "Less than 1 year       14\n",
       "50                     10\n",
       "47                     10\n",
       "48                      9\n",
       "49                      7\n",
       "Name: YearsCode, dtype: int64"
      ]
     },
     "execution_count": 34,
     "metadata": {},
     "output_type": "execute_result"
    }
   ],
   "source": [
    "df.YearsCode.value_counts()"
   ]
  },
  {
   "cell_type": "code",
   "execution_count": 35,
   "metadata": {},
   "outputs": [
    {
     "data": {
      "text/plain": [
       "3                     727\n",
       "5                     672\n",
       "2                     667\n",
       "4                     562\n",
       "10                    464\n",
       "6                     459\n",
       "7                     406\n",
       "1                     385\n",
       "8                     374\n",
       "20                    324\n",
       "Less than 1 year      316\n",
       "15                    299\n",
       "12                    266\n",
       "9                     201\n",
       "13                    180\n",
       "11                    178\n",
       "14                    151\n",
       "25                    150\n",
       "16                    148\n",
       "22                    110\n",
       "18                     97\n",
       "21                     93\n",
       "30                     87\n",
       "19                     83\n",
       "23                     83\n",
       "17                     72\n",
       "24                     71\n",
       "26                     50\n",
       "27                     49\n",
       "35                     44\n",
       "28                     40\n",
       "40                     37\n",
       "38                     31\n",
       "34                     26\n",
       "31                     24\n",
       "32                     24\n",
       "33                     23\n",
       "29                     22\n",
       "36                     20\n",
       "37                     18\n",
       "39                     16\n",
       "More than 50 years     13\n",
       "41                     10\n",
       "45                      9\n",
       "44                      8\n",
       "42                      8\n",
       "43                      5\n",
       "46                      2\n",
       "47                      2\n",
       "49                      1\n",
       "48                      1\n",
       "Name: YearsCodePro, dtype: int64"
      ]
     },
     "execution_count": 35,
     "metadata": {},
     "output_type": "execute_result"
    }
   ],
   "source": [
    "df.YearsCodePro.value_counts()"
   ]
  },
  {
   "cell_type": "code",
   "execution_count": 36,
   "metadata": {},
   "outputs": [
    {
     "data": {
      "text/plain": [
       "12                      889\n",
       "13                      710\n",
       "15                      689\n",
       "14                      675\n",
       "10                      656\n",
       "16                      650\n",
       "18                      602\n",
       "11                      387\n",
       "17                      383\n",
       "8                       351\n",
       "19                      324\n",
       "9                       235\n",
       "20                      215\n",
       "7                       182\n",
       "21                      142\n",
       "25                      117\n",
       "22                      114\n",
       "6                       105\n",
       "23                       99\n",
       "24                       89\n",
       "26                       75\n",
       "5                        57\n",
       "27                       56\n",
       "Younger than 5 years     55\n",
       "30                       53\n",
       "28                       45\n",
       "29                       32\n",
       "31                       25\n",
       "35                       19\n",
       "33                       18\n",
       "32                       12\n",
       "34                        8\n",
       "36                        6\n",
       "40                        6\n",
       "39                        6\n",
       "41                        4\n",
       "38                        4\n",
       "50                        3\n",
       "37                        3\n",
       "45                        2\n",
       "47                        2\n",
       "42                        1\n",
       "Older than 85             1\n",
       "46                        1\n",
       "Name: Age1stCode, dtype: int64"
      ]
     },
     "execution_count": 36,
     "metadata": {},
     "output_type": "execute_result"
    }
   ],
   "source": [
    "df.Age1stCode.value_counts()"
   ]
  },
  {
   "cell_type": "code",
   "execution_count": 37,
   "metadata": {},
   "outputs": [],
   "source": [
    "df.replace('Younger than 5 years', 4, inplace=True)\n",
    "df.replace('Older than 85', 85, inplace=True)\n",
    "df.replace('More than 50 years', 50, inplace=True)\n",
    "df.replace('Less than 1 year', 0, inplace=True)"
   ]
  },
  {
   "cell_type": "code",
   "execution_count": 38,
   "metadata": {},
   "outputs": [],
   "source": [
    "df['Age1stCode'] = df.Age1stCode.astype('int64')\n",
    "df['YearsCode'] = df.YearsCode.astype('int64')\n",
    "df['YearsCodePro'] = df.YearsCodePro.astype('int64')"
   ]
  },
  {
   "cell_type": "code",
   "execution_count": 39,
   "metadata": {},
   "outputs": [
    {
     "name": "stdout",
     "output_type": "stream",
     "text": [
      "<class 'pandas.core.frame.DataFrame'>\n",
      "Int64Index: 8108 entries, 0 to 8151\n",
      "Data columns (total 8 columns):\n",
      " #   Column          Non-Null Count  Dtype  \n",
      "---  ------          --------------  -----  \n",
      " 0   Respondent      8108 non-null   int64  \n",
      " 1   Hobbyist        8108 non-null   object \n",
      " 2   Age             7194 non-null   float64\n",
      " 3   Age1stCode      8108 non-null   int64  \n",
      " 4   Comp            8108 non-null   int64  \n",
      " 5   YearsCode       8108 non-null   int64  \n",
      " 6   YearsCodePro    8108 non-null   int64  \n",
      " 7   Gender_imputed  8108 non-null   object \n",
      "dtypes: float64(1), int64(5), object(2)\n",
      "memory usage: 890.1+ KB\n"
     ]
    }
   ],
   "source": [
    "df.info()"
   ]
  },
  {
   "cell_type": "code",
   "execution_count": 40,
   "metadata": {
    "scrolled": true
   },
   "outputs": [
    {
     "data": {
      "text/plain": [
       "array([[36., 12., 17., 13.],\n",
       "       [27., 13.,  5.,  1.],\n",
       "       [25., 14.,  7.,  3.],\n",
       "       ...,\n",
       "       [28., 13., 15., 12.],\n",
       "       [26., 13.,  7.,  4.],\n",
       "       [41., 15., 25., 20.]])"
      ]
     },
     "execution_count": 40,
     "metadata": {},
     "output_type": "execute_result"
    }
   ],
   "source": [
    "from sklearn.impute import KNNImputer\n",
    "\n",
    "#Use numeric columns that you want to use for imputation\n",
    "X_numeric = df[['Age', 'Age1stCode', 'YearsCode', 'YearsCodePro']]\n",
    "\n",
    "# define the thing\n",
    "imputer = KNNImputer(n_neighbors=1)\n",
    "\n",
    "\n",
    "# fit the thing (or fit and use with fit_transform) only on train!\n",
    "imputed = imputer.fit_transform(X_numeric)\n",
    "imputed"
   ]
  },
  {
   "cell_type": "code",
   "execution_count": 42,
   "metadata": {},
   "outputs": [
    {
     "data": {
      "text/plain": [
       "0    0\n",
       "1    0\n",
       "2    0\n",
       "3    0\n",
       "dtype: int64"
      ]
     },
     "execution_count": 42,
     "metadata": {},
     "output_type": "execute_result"
    }
   ],
   "source": [
    "pd.DataFrame(imputed).isnull().sum()"
   ]
  },
  {
   "cell_type": "code",
   "execution_count": 44,
   "metadata": {},
   "outputs": [
    {
     "data": {
      "text/html": [
       "<div>\n",
       "<style scoped>\n",
       "    .dataframe tbody tr th:only-of-type {\n",
       "        vertical-align: middle;\n",
       "    }\n",
       "\n",
       "    .dataframe tbody tr th {\n",
       "        vertical-align: top;\n",
       "    }\n",
       "\n",
       "    .dataframe thead th {\n",
       "        text-align: right;\n",
       "    }\n",
       "</style>\n",
       "<table border=\"1\" class=\"dataframe\">\n",
       "  <thead>\n",
       "    <tr style=\"text-align: right;\">\n",
       "      <th></th>\n",
       "      <th>0</th>\n",
       "      <th>1</th>\n",
       "      <th>2</th>\n",
       "      <th>3</th>\n",
       "    </tr>\n",
       "  </thead>\n",
       "  <tbody>\n",
       "    <tr>\n",
       "      <th>0</th>\n",
       "      <td>36.00</td>\n",
       "      <td>12.00</td>\n",
       "      <td>17.00</td>\n",
       "      <td>13.00</td>\n",
       "    </tr>\n",
       "    <tr>\n",
       "      <th>1</th>\n",
       "      <td>27.00</td>\n",
       "      <td>13.00</td>\n",
       "      <td>5.00</td>\n",
       "      <td>1.00</td>\n",
       "    </tr>\n",
       "    <tr>\n",
       "      <th>2</th>\n",
       "      <td>25.00</td>\n",
       "      <td>14.00</td>\n",
       "      <td>7.00</td>\n",
       "      <td>3.00</td>\n",
       "    </tr>\n",
       "    <tr>\n",
       "      <th>3</th>\n",
       "      <td>32.00</td>\n",
       "      <td>12.00</td>\n",
       "      <td>19.00</td>\n",
       "      <td>12.00</td>\n",
       "    </tr>\n",
       "    <tr>\n",
       "      <th>4</th>\n",
       "      <td>24.00</td>\n",
       "      <td>15.00</td>\n",
       "      <td>9.00</td>\n",
       "      <td>3.00</td>\n",
       "    </tr>\n",
       "  </tbody>\n",
       "</table>\n",
       "</div>"
      ],
      "text/plain": [
       "      0     1     2     3\n",
       "0 36.00 12.00 17.00 13.00\n",
       "1 27.00 13.00  5.00  1.00\n",
       "2 25.00 14.00  7.00  3.00\n",
       "3 32.00 12.00 19.00 12.00\n",
       "4 24.00 15.00  9.00  3.00"
      ]
     },
     "execution_count": 44,
     "metadata": {},
     "output_type": "execute_result"
    }
   ],
   "source": [
    "imputed = pd.DataFrame(imputed, index=df.index)\n",
    "imputed.head()"
   ]
  },
  {
   "cell_type": "code",
   "execution_count": 45,
   "metadata": {},
   "outputs": [],
   "source": [
    "df['Age'] = imputed[[0]]"
   ]
  },
  {
   "cell_type": "code",
   "execution_count": 46,
   "metadata": {},
   "outputs": [
    {
     "name": "stdout",
     "output_type": "stream",
     "text": [
      "<class 'pandas.core.frame.DataFrame'>\n",
      "Int64Index: 8108 entries, 0 to 8151\n",
      "Data columns (total 8 columns):\n",
      " #   Column          Non-Null Count  Dtype  \n",
      "---  ------          --------------  -----  \n",
      " 0   Respondent      8108 non-null   int64  \n",
      " 1   Hobbyist        8108 non-null   object \n",
      " 2   Age             8108 non-null   float64\n",
      " 3   Age1stCode      8108 non-null   int64  \n",
      " 4   Comp            8108 non-null   int64  \n",
      " 5   YearsCode       8108 non-null   int64  \n",
      " 6   YearsCodePro    8108 non-null   int64  \n",
      " 7   Gender_imputed  8108 non-null   object \n",
      "dtypes: float64(1), int64(5), object(2)\n",
      "memory usage: 890.1+ KB\n"
     ]
    }
   ],
   "source": [
    "df.info()"
   ]
  },
  {
   "cell_type": "markdown",
   "metadata": {},
   "source": [
    "### Outliers\n",
    "- Data point(s) that differs significantly from other observations\n",
    "- Could be due to chance, measurement errors, transcription error, sampling error/bias,\n",
    "\n",
    "Question to ask:\n",
    "- Is the outlier part of population that I want to explore/model?"
   ]
  },
  {
   "cell_type": "code",
   "execution_count": 47,
   "metadata": {},
   "outputs": [
    {
     "data": {
      "text/plain": [
       "Text(0.5, 1.0, 'Compensation')"
      ]
     },
     "execution_count": 47,
     "metadata": {},
     "output_type": "execute_result"
    },
    {
     "data": {
      "image/png": "[encoded data removed]",
      "text/plain": [
       "<Figure size 864x432 with 2 Axes>"
      ]
     },
     "metadata": {
      "needs_background": "light"
     },
     "output_type": "display_data"
    }
   ],
   "source": [
    "# plot histograms from Age and Compensation\n",
    "\n",
    "plt.figure(figsize = (12,6))\n",
    "\n",
    "plt.subplot(121)\n",
    "df.Age.hist(bins = 100)\n",
    "plt.title('Age')\n",
    "\n",
    "plt.subplot(122)\n",
    "df.Comp.hist(bins = 100)\n",
    "plt.title('Compensation')"
   ]
  },
  {
   "cell_type": "code",
   "execution_count": 48,
   "metadata": {},
   "outputs": [
    {
     "data": {
      "image/png": "[encoded data removed]",
      "text/plain": [
       "<Figure size 864x432 with 2 Axes>"
      ]
     },
     "metadata": {
      "needs_background": "light"
     },
     "output_type": "display_data"
    }
   ],
   "source": [
    "# Boxplot for Age and Compensation\n",
    "\n",
    "plt.figure(figsize = (12,6))\n",
    "\n",
    "plt.subplot(121)\n",
    "sns.boxplot(y = 'Age', data = df, whis = 3)\n",
    "plt.title('Age')\n",
    "\n",
    "plt.subplot(122)\n",
    "plt.title('Compensation')\n",
    "sns.boxplot(y = 'Comp', data = df, whis = 3);"
   ]
  },
  {
   "cell_type": "markdown",
   "metadata": {},
   "source": [
    "### Handling Outliers:\n",
    "- Use domain knowledge/business rules to have cut-offs\n",
    "- Use IQR method to exclude outliers\n",
    "- Cap/Trim max value \n",
    "- transformation\n",
    "- Impute new value (if you know outlier is a mistake)"
   ]
  },
  {
   "cell_type": "code",
   "execution_count": 49,
   "metadata": {},
   "outputs": [],
   "source": [
    "# Calculate q1, q3 and iqr for Age\n",
    "q1 = df.Age.quantile(0.25)\n",
    "q3 = df.Age.quantile(0.75)\n",
    "iqr = q3 - q1\n",
    "k = 3\n",
    "\n",
    "# calculate upper and lower ranges\n",
    "upper_bound_Age =  q3 + k * iqr\n",
    "lower_bound_Age =  q1 - k * iqr"
   ]
  },
  {
   "cell_type": "code",
   "execution_count": 52,
   "metadata": {},
   "outputs": [
    {
     "data": {
      "text/plain": [
       "(75.0, -9.0)"
      ]
     },
     "execution_count": 52,
     "metadata": {},
     "output_type": "execute_result"
    }
   ],
   "source": [
    "upper_bound_Age, lower_bound_Age"
   ]
  },
  {
   "cell_type": "code",
   "execution_count": 53,
   "metadata": {},
   "outputs": [],
   "source": [
    "# Calculate q1, q3 and iqr for Comp\n",
    "q1 = df.Comp.quantile(0.25)\n",
    "q3 = df.Comp.quantile(0.75)\n",
    "iqr = q3 - q1\n",
    "k = 3\n",
    "\n",
    "\n",
    "# calculate upper and lower ranges\n",
    "upper_bound_Comp = q3 + k * iqr\n",
    "lower_bound_Comp = q1 - k * iqr"
   ]
  },
  {
   "cell_type": "code",
   "execution_count": 54,
   "metadata": {},
   "outputs": [
    {
     "data": {
      "text/plain": [
       "(391000.0, -148000.0)"
      ]
     },
     "execution_count": 54,
     "metadata": {},
     "output_type": "execute_result"
    }
   ],
   "source": [
    "upper_bound_Comp, lower_bound_Comp"
   ]
  },
  {
   "cell_type": "code",
   "execution_count": 56,
   "metadata": {},
   "outputs": [
    {
     "data": {
      "text/html": [
       "<div>\n",
       "<style scoped>\n",
       "    .dataframe tbody tr th:only-of-type {\n",
       "        vertical-align: middle;\n",
       "    }\n",
       "\n",
       "    .dataframe tbody tr th {\n",
       "        vertical-align: top;\n",
       "    }\n",
       "\n",
       "    .dataframe thead th {\n",
       "        text-align: right;\n",
       "    }\n",
       "</style>\n",
       "<table border=\"1\" class=\"dataframe\">\n",
       "  <thead>\n",
       "    <tr style=\"text-align: right;\">\n",
       "      <th></th>\n",
       "      <th>Respondent</th>\n",
       "      <th>Hobbyist</th>\n",
       "      <th>Age</th>\n",
       "      <th>Age1stCode</th>\n",
       "      <th>Comp</th>\n",
       "      <th>YearsCode</th>\n",
       "      <th>YearsCodePro</th>\n",
       "      <th>Gender_imputed</th>\n",
       "    </tr>\n",
       "  </thead>\n",
       "  <tbody>\n",
       "    <tr>\n",
       "      <th>0</th>\n",
       "      <td>8</td>\n",
       "      <td>Yes</td>\n",
       "      <td>36.00</td>\n",
       "      <td>12</td>\n",
       "      <td>116000</td>\n",
       "      <td>17</td>\n",
       "      <td>13</td>\n",
       "      <td>Man</td>\n",
       "    </tr>\n",
       "    <tr>\n",
       "      <th>1</th>\n",
       "      <td>14</td>\n",
       "      <td>Yes</td>\n",
       "      <td>27.00</td>\n",
       "      <td>13</td>\n",
       "      <td>66000</td>\n",
       "      <td>5</td>\n",
       "      <td>1</td>\n",
       "      <td>Man</td>\n",
       "    </tr>\n",
       "    <tr>\n",
       "      <th>2</th>\n",
       "      <td>17</td>\n",
       "      <td>Yes</td>\n",
       "      <td>25.00</td>\n",
       "      <td>14</td>\n",
       "      <td>79000</td>\n",
       "      <td>7</td>\n",
       "      <td>3</td>\n",
       "      <td>Man</td>\n",
       "    </tr>\n",
       "    <tr>\n",
       "      <th>4</th>\n",
       "      <td>19</td>\n",
       "      <td>No</td>\n",
       "      <td>24.00</td>\n",
       "      <td>15</td>\n",
       "      <td>83400</td>\n",
       "      <td>9</td>\n",
       "      <td>3</td>\n",
       "      <td>Man</td>\n",
       "    </tr>\n",
       "    <tr>\n",
       "      <th>5</th>\n",
       "      <td>41</td>\n",
       "      <td>No</td>\n",
       "      <td>41.00</td>\n",
       "      <td>15</td>\n",
       "      <td>106000</td>\n",
       "      <td>25</td>\n",
       "      <td>20</td>\n",
       "      <td>Man</td>\n",
       "    </tr>\n",
       "    <tr>\n",
       "      <th>...</th>\n",
       "      <td>...</td>\n",
       "      <td>...</td>\n",
       "      <td>...</td>\n",
       "      <td>...</td>\n",
       "      <td>...</td>\n",
       "      <td>...</td>\n",
       "      <td>...</td>\n",
       "      <td>...</td>\n",
       "    </tr>\n",
       "    <tr>\n",
       "      <th>8147</th>\n",
       "      <td>65589</td>\n",
       "      <td>Yes</td>\n",
       "      <td>26.00</td>\n",
       "      <td>16</td>\n",
       "      <td>150000</td>\n",
       "      <td>10</td>\n",
       "      <td>6</td>\n",
       "      <td>Man</td>\n",
       "    </tr>\n",
       "    <tr>\n",
       "      <th>8148</th>\n",
       "      <td>65596</td>\n",
       "      <td>Yes</td>\n",
       "      <td>27.00</td>\n",
       "      <td>22</td>\n",
       "      <td>70000</td>\n",
       "      <td>6</td>\n",
       "      <td>4</td>\n",
       "      <td>Man</td>\n",
       "    </tr>\n",
       "    <tr>\n",
       "      <th>8149</th>\n",
       "      <td>65602</td>\n",
       "      <td>Yes</td>\n",
       "      <td>28.00</td>\n",
       "      <td>13</td>\n",
       "      <td>140000</td>\n",
       "      <td>15</td>\n",
       "      <td>12</td>\n",
       "      <td>Man</td>\n",
       "    </tr>\n",
       "    <tr>\n",
       "      <th>8150</th>\n",
       "      <td>65604</td>\n",
       "      <td>No</td>\n",
       "      <td>26.00</td>\n",
       "      <td>13</td>\n",
       "      <td>150000</td>\n",
       "      <td>7</td>\n",
       "      <td>4</td>\n",
       "      <td>Man</td>\n",
       "    </tr>\n",
       "    <tr>\n",
       "      <th>8151</th>\n",
       "      <td>65629</td>\n",
       "      <td>Yes</td>\n",
       "      <td>41.00</td>\n",
       "      <td>15</td>\n",
       "      <td>200</td>\n",
       "      <td>25</td>\n",
       "      <td>20</td>\n",
       "      <td>Man</td>\n",
       "    </tr>\n",
       "  </tbody>\n",
       "</table>\n",
       "<p>7548 rows × 8 columns</p>\n",
       "</div>"
      ],
      "text/plain": [
       "      Respondent Hobbyist   Age  Age1stCode    Comp  YearsCode  YearsCodePro  \\\n",
       "0              8      Yes 36.00          12  116000         17            13   \n",
       "1             14      Yes 27.00          13   66000          5             1   \n",
       "2             17      Yes 25.00          14   79000          7             3   \n",
       "4             19       No 24.00          15   83400          9             3   \n",
       "5             41       No 41.00          15  106000         25            20   \n",
       "...          ...      ...   ...         ...     ...        ...           ...   \n",
       "8147       65589      Yes 26.00          16  150000         10             6   \n",
       "8148       65596      Yes 27.00          22   70000          6             4   \n",
       "8149       65602      Yes 28.00          13  140000         15            12   \n",
       "8150       65604       No 26.00          13  150000          7             4   \n",
       "8151       65629      Yes 41.00          15     200         25            20   \n",
       "\n",
       "     Gender_imputed  \n",
       "0               Man  \n",
       "1               Man  \n",
       "2               Man  \n",
       "4               Man  \n",
       "5               Man  \n",
       "...             ...  \n",
       "8147            Man  \n",
       "8148            Man  \n",
       "8149            Man  \n",
       "8150            Man  \n",
       "8151            Man  \n",
       "\n",
       "[7548 rows x 8 columns]"
      ]
     },
     "execution_count": 56,
     "metadata": {},
     "output_type": "execute_result"
    }
   ],
   "source": [
    "# Filter dataframe using multiple conditions\n",
    "\n",
    "df[(df.Age < upper_bound_Age) & (df.Comp < upper_bound_Comp)]"
   ]
  },
  {
   "cell_type": "code",
   "execution_count": 57,
   "metadata": {},
   "outputs": [],
   "source": [
    "# Cap the limit\n",
    "\n",
    "# df['column'] = np.where(this_is_true, do_this, else_do_that)\n",
    "\n",
    "df.Comp = np.where(df.Comp > 1_000_000, df.Comp == 1_000_000, df.Comp)"
   ]
  },
  {
   "cell_type": "code",
   "execution_count": null,
   "metadata": {},
   "outputs": [],
   "source": []
  }
 ],
 "metadata": {
  "kernelspec": {
   "display_name": "Python 3",
   "language": "python",
   "name": "python3"
  },
  "language_info": {
   "codemirror_mode": {
    "name": "ipython",
    "version": 3
   },
   "file_extension": ".py",
   "mimetype": "text/x-python",
   "name": "python",
   "nbconvert_exporter": "python",
   "pygments_lexer": "ipython3",
   "version": "3.8.5"
  }
 },
 "nbformat": 4,
 "nbformat_minor": 4
}
